{
 "cells": [
  {
   "cell_type": "code",
   "execution_count": 9,
   "metadata": {},
   "outputs": [],
   "source": [
    "# Modulos\n",
    "from time import time\n",
    "from clique_max import *"
   ]
  },
  {
   "cell_type": "code",
   "execution_count": 12,
   "metadata": {},
   "outputs": [],
   "source": [
    "def modelo_clique(nombre_archivo, dirigido):\n",
    "    Grafo = cargar_grafo(nombre_archivo, dirigido)\n",
    "    Cliques_totales = []\n",
    "    \n",
    "    tiempo_inicio= time()\n",
    "    Num_cliques = buscar_clique_maximo(Grafo=Grafo, n_cliques=Cliques_totales, nodos_restantes=list(Grafo.keys()))\n",
    "    tiempo_final= time()\n",
    "    \n",
    "    n2 = 0\n",
    "    n7 = 0\n",
    "    n16 = 0\n",
    "    n25 = 0\n",
    "\n",
    "    Cliques_totales = ordenar_listas_desc(Cliques_totales)\n",
    "    Clique_maximo = Cliques_totales[0]\n",
    "    print(f\"Nodos del clique máximo: {Clique_maximo}\")\n",
    "    print(f\"Cantidad de cliques en el grafo: {Num_cliques}\")\n",
    "    print(f\"Tiempo de ejecucion: {tiempo_final - tiempo_inicio}\")\n",
    "    for Clique in Cliques_totales: \n",
    "        if len(Clique) == 2:\n",
    "            n2 += 1\n",
    "        elif len(Cliques_totales) == 7:\n",
    "            n7 += 1\n",
    "        elif len(Cliques_totales) == 16:\n",
    "            n16 += 1\n",
    "        elif len(Cliques_totales) == 25:\n",
    "            n25 += 1\n",
    "    print(f\"{n2}, {n7}, {n16}, {n25}\")"
   ]
  },
  {
   "cell_type": "code",
   "execution_count": 13,
   "metadata": {},
   "outputs": [
    {
     "name": "stdout",
     "output_type": "stream",
     "text": [
      "Nodos del clique máximo: ['1', '43', '57', '91', '114', '173', '185', '242', '328', '447']\n",
      "Cantidad de cliques en el grafo: 12381\n",
      "Tiempo de ejecucion: 1.5125293731689453\n",
      "297, 0, 0, 0\n"
     ]
    }
   ],
   "source": [
    "modelo_clique(\"Examples/le450_25d.col\", True)"
   ]
  },
  {
   "cell_type": "code",
   "execution_count": null,
   "metadata": {},
   "outputs": [],
   "source": []
  }
 ],
 "metadata": {
  "kernelspec": {
   "display_name": "Python 3",
   "language": "python",
   "name": "python3"
  },
  "language_info": {
   "codemirror_mode": {
    "name": "ipython",
    "version": 3
   },
   "file_extension": ".py",
   "mimetype": "text/x-python",
   "name": "python",
   "nbconvert_exporter": "python",
   "pygments_lexer": "ipython3",
   "version": "3.10.10"
  },
  "orig_nbformat": 4
 },
 "nbformat": 4,
 "nbformat_minor": 2
}
